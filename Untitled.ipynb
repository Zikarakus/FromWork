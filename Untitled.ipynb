{
 "cells": [
  {
   "cell_type": "code",
   "execution_count": 1,
   "id": "e0f01f21",
   "metadata": {},
   "outputs": [],
   "source": [
    "x=\"Hello\""
   ]
  },
  {
   "cell_type": "code",
   "execution_count": 2,
   "id": "58f2b4bd",
   "metadata": {},
   "outputs": [
    {
     "name": "stdout",
     "output_type": "stream",
     "text": [
      "Hello\n"
     ]
    }
   ],
   "source": [
    "print(x)"
   ]
  },
  {
   "cell_type": "code",
   "execution_count": 3,
   "id": "2640556a",
   "metadata": {},
   "outputs": [
    {
     "data": {
      "text/plain": [
       "str"
      ]
     },
     "execution_count": 3,
     "metadata": {},
     "output_type": "execute_result"
    }
   ],
   "source": [
    "type(x)"
   ]
  },
  {
   "cell_type": "code",
   "execution_count": 4,
   "id": "16d8973c",
   "metadata": {},
   "outputs": [],
   "source": [
    "a=5"
   ]
  },
  {
   "cell_type": "code",
   "execution_count": 5,
   "id": "9bb41d03",
   "metadata": {},
   "outputs": [
    {
     "data": {
      "text/plain": [
       "int"
      ]
     },
     "execution_count": 5,
     "metadata": {},
     "output_type": "execute_result"
    }
   ],
   "source": [
    "type(a)"
   ]
  },
  {
   "cell_type": "code",
   "execution_count": 7,
   "id": "6b508fa1",
   "metadata": {},
   "outputs": [],
   "source": [
    "f=13.33"
   ]
  },
  {
   "cell_type": "code",
   "execution_count": 8,
   "id": "f1f8d3dc",
   "metadata": {},
   "outputs": [
    {
     "data": {
      "text/plain": [
       "float"
      ]
     },
     "execution_count": 8,
     "metadata": {},
     "output_type": "execute_result"
    }
   ],
   "source": [
    "type(f)"
   ]
  },
  {
   "cell_type": "code",
   "execution_count": 9,
   "id": "41611554",
   "metadata": {},
   "outputs": [],
   "source": [
    "c=True"
   ]
  },
  {
   "cell_type": "code",
   "execution_count": 10,
   "id": "a9ecd92b",
   "metadata": {},
   "outputs": [
    {
     "data": {
      "text/plain": [
       "bool"
      ]
     },
     "execution_count": 10,
     "metadata": {},
     "output_type": "execute_result"
    }
   ],
   "source": [
    "type(c)"
   ]
  },
  {
   "cell_type": "code",
   "execution_count": 7,
   "id": "481460e0",
   "metadata": {},
   "outputs": [],
   "source": [
    "some_string=\"5\"                            "
   ]
  },
  {
   "cell_type": "code",
   "execution_count": 8,
   "id": "4d8facde",
   "metadata": {
    "scrolled": true
   },
   "outputs": [
    {
     "data": {
      "text/plain": [
       "str"
      ]
     },
     "execution_count": 8,
     "metadata": {},
     "output_type": "execute_result"
    }
   ],
   "source": [
    "type (some_string)"
   ]
  },
  {
   "cell_type": "markdown",
   "id": "042504b9",
   "metadata": {},
   "source": [
    "##### смена типа данных со строки на целочисленное значение "
   ]
  },
  {
   "cell_type": "code",
   "execution_count": 9,
   "id": "93d3d644",
   "metadata": {},
   "outputs": [],
   "source": [
    "some_string=int(some_string)"
   ]
  },
  {
   "cell_type": "code",
   "execution_count": 10,
   "id": "5f266fc5",
   "metadata": {},
   "outputs": [
    {
     "data": {
      "text/plain": [
       "int"
      ]
     },
     "execution_count": 10,
     "metadata": {},
     "output_type": "execute_result"
    }
   ],
   "source": [
    "type (some_string)"
   ]
  },
  {
   "cell_type": "code",
   "execution_count": 4,
   "id": "f257ce8d",
   "metadata": {},
   "outputs": [],
   "source": [
    "a=\"abcdef\""
   ]
  },
  {
   "cell_type": "code",
   "execution_count": 5,
   "id": "573fffb1",
   "metadata": {},
   "outputs": [
    {
     "data": {
      "text/plain": [
       "'abcdef'"
      ]
     },
     "execution_count": 5,
     "metadata": {},
     "output_type": "execute_result"
    }
   ],
   "source": [
    "a"
   ]
  },
  {
   "cell_type": "markdown",
   "id": "9ce8e1a4",
   "metadata": {},
   "source": [
    "##### Индексация в [] скобках\n",
    "##### Выборка, конечное значение в индексацию не входит"
   ]
  },
  {
   "cell_type": "code",
   "execution_count": 6,
   "id": "a12ee10f",
   "metadata": {},
   "outputs": [
    {
     "data": {
      "text/plain": [
       "'abc'"
      ]
     },
     "execution_count": 6,
     "metadata": {},
     "output_type": "execute_result"
    }
   ],
   "source": [
    "a[0:3]"
   ]
  },
  {
   "cell_type": "markdown",
   "id": "fcc448a8",
   "metadata": {},
   "source": [
    "##### Синтаксис цикла"
   ]
  },
  {
   "cell_type": "code",
   "execution_count": 11,
   "id": "338d0a26",
   "metadata": {},
   "outputs": [
    {
     "name": "stdout",
     "output_type": "stream",
     "text": [
      "A\n",
      "B\n",
      "C\n",
      "D\n",
      "E\n",
      "F\n"
     ]
    }
   ],
   "source": [
    "for i in a:\n",
    "    print(i.upper())"
   ]
  },
  {
   "cell_type": "code",
   "execution_count": 29,
   "id": "4537c2b5",
   "metadata": {},
   "outputs": [
    {
     "name": "stdout",
     "output_type": "stream",
     "text": [
      "ABCDEF\n"
     ]
    }
   ],
   "source": [
    "print(a.upper())"
   ]
  },
  {
   "cell_type": "markdown",
   "id": "9da702ad",
   "metadata": {},
   "source": [
    "##### диапазон"
   ]
  },
  {
   "cell_type": "code",
   "execution_count": 16,
   "id": "4b700008",
   "metadata": {},
   "outputs": [
    {
     "name": "stdout",
     "output_type": "stream",
     "text": [
      "1\n",
      "2\n",
      "3\n",
      "4\n"
     ]
    }
   ],
   "source": [
    "for m in range(1, 5):\n",
    "    print(m)"
   ]
  },
  {
   "cell_type": "markdown",
   "id": "10f666a2",
   "metadata": {},
   "source": [
    " ##### //-целых значений, %-остаток"
   ]
  },
  {
   "cell_type": "code",
   "execution_count": 27,
   "id": "17a823c8",
   "metadata": {},
   "outputs": [
    {
     "data": {
      "text/plain": [
       "18"
      ]
     },
     "execution_count": 27,
     "metadata": {},
     "output_type": "execute_result"
    }
   ],
   "source": [
    "37//2"
   ]
  },
  {
   "cell_type": "code",
   "execution_count": 18,
   "id": "288b8476",
   "metadata": {},
   "outputs": [
    {
     "data": {
      "text/plain": [
       "2"
      ]
     },
     "execution_count": 18,
     "metadata": {},
     "output_type": "execute_result"
    }
   ],
   "source": [
    "37%5"
   ]
  },
  {
   "cell_type": "markdown",
   "id": "9b9f4ca7",
   "metadata": {},
   "source": [
    "##### Логические значения"
   ]
  },
  {
   "cell_type": "code",
   "execution_count": 59,
   "id": "49beb6a2",
   "metadata": {},
   "outputs": [
    {
     "data": {
      "text/plain": [
       "True"
      ]
     },
     "execution_count": 59,
     "metadata": {},
     "output_type": "execute_result"
    }
   ],
   "source": [
    "2<3"
   ]
  },
  {
   "cell_type": "code",
   "execution_count": 22,
   "id": "10274aca",
   "metadata": {},
   "outputs": [
    {
     "data": {
      "text/plain": [
       "False"
      ]
     },
     "execution_count": 22,
     "metadata": {},
     "output_type": "execute_result"
    }
   ],
   "source": [
    "2!=2"
   ]
  },
  {
   "cell_type": "markdown",
   "id": "897954aa",
   "metadata": {},
   "source": [
    "##### сравнение значений в ячейках"
   ]
  },
  {
   "cell_type": "code",
   "execution_count": 26,
   "id": "611bbe61",
   "metadata": {},
   "outputs": [
    {
     "data": {
      "text/plain": [
       "False"
      ]
     },
     "execution_count": 26,
     "metadata": {},
     "output_type": "execute_result"
    }
   ],
   "source": [
    "[1,2]is[1,2]"
   ]
  },
  {
   "cell_type": "code",
   "execution_count": 27,
   "id": "59861bff",
   "metadata": {},
   "outputs": [],
   "source": [
    "l1=l2=[1,2]"
   ]
  },
  {
   "cell_type": "markdown",
   "id": "86bd2615",
   "metadata": {},
   "source": [
    "l1isl2"
   ]
  },
  {
   "cell_type": "code",
   "execution_count": 29,
   "id": "a7494b84",
   "metadata": {},
   "outputs": [
    {
     "data": {
      "text/plain": [
       "2276684117312"
      ]
     },
     "execution_count": 29,
     "metadata": {},
     "output_type": "execute_result"
    }
   ],
   "source": [
    "id(l2)"
   ]
  },
  {
   "cell_type": "code",
   "execution_count": 30,
   "id": "b3903fc7",
   "metadata": {},
   "outputs": [
    {
     "data": {
      "text/plain": [
       "2276684117312"
      ]
     },
     "execution_count": 30,
     "metadata": {},
     "output_type": "execute_result"
    }
   ],
   "source": [
    "id(l2)"
   ]
  },
  {
   "cell_type": "code",
   "execution_count": 70,
   "id": "4ef3fff0",
   "metadata": {},
   "outputs": [
    {
     "data": {
      "text/plain": [
       "True"
      ]
     },
     "execution_count": 70,
     "metadata": {},
     "output_type": "execute_result"
    }
   ],
   "source": [
    "l1 is l2"
   ]
  },
  {
   "cell_type": "markdown",
   "id": "c16cdfd5",
   "metadata": {},
   "source": [
    "##### len- длина списка"
   ]
  },
  {
   "cell_type": "code",
   "execution_count": 71,
   "id": "69a92ac3",
   "metadata": {},
   "outputs": [
    {
     "data": {
      "text/plain": [
       "6"
      ]
     },
     "execution_count": 71,
     "metadata": {},
     "output_type": "execute_result"
    }
   ],
   "source": [
    "len(a)"
   ]
  },
  {
   "cell_type": "code",
   "execution_count": 72,
   "id": "41f5712b",
   "metadata": {},
   "outputs": [
    {
     "data": {
      "text/plain": [
       "2"
      ]
     },
     "execution_count": 72,
     "metadata": {},
     "output_type": "execute_result"
    }
   ],
   "source": [
    "len(l1)"
   ]
  },
  {
   "cell_type": "markdown",
   "id": "53f2eeb0",
   "metadata": {},
   "source": [
    "##### .replace -замена"
   ]
  },
  {
   "cell_type": "code",
   "execution_count": 61,
   "id": "34e7154a",
   "metadata": {},
   "outputs": [],
   "source": [
    "s = \"Hello World!\"\n",
    "s2 = s.replace(\"World\", 'Anton')"
   ]
  },
  {
   "cell_type": "code",
   "execution_count": 62,
   "id": "9aafae97",
   "metadata": {},
   "outputs": [
    {
     "data": {
      "text/plain": [
       "'Hello Anton!'"
      ]
     },
     "execution_count": 62,
     "metadata": {},
     "output_type": "execute_result"
    }
   ],
   "source": [
    "s2"
   ]
  },
  {
   "cell_type": "markdown",
   "id": "9832cda7",
   "metadata": {},
   "source": [
    "[start:end:step]"
   ]
  },
  {
   "cell_type": "markdown",
   "id": "2908eefc",
   "metadata": {},
   "source": [
    "##### :-сколько значений выбрать\n",
    "##### ::2- убрать каждое вторую букву"
   ]
  },
  {
   "cell_type": "code",
   "execution_count": 66,
   "id": "337ccd9b",
   "metadata": {},
   "outputs": [
    {
     "data": {
      "text/plain": [
       "'HloAtn'"
      ]
     },
     "execution_count": 66,
     "metadata": {},
     "output_type": "execute_result"
    }
   ],
   "source": [
    "s2[::2]"
   ]
  },
  {
   "cell_type": "code",
   "execution_count": 84,
   "id": "903c0eac",
   "metadata": {},
   "outputs": [
    {
     "name": "stdout",
     "output_type": "stream",
     "text": [
      "str1 str2 str3\n"
     ]
    }
   ],
   "source": [
    "print(\"str1\", 'str2','str3')"
   ]
  },
  {
   "cell_type": "code",
   "execution_count": 87,
   "id": "bc3064c5",
   "metadata": {},
   "outputs": [
    {
     "name": "stdout",
     "output_type": "stream",
     "text": [
      "str1 1.0 False Hello Anton!\n"
     ]
    }
   ],
   "source": [
    "print('str1', 1.0, False, s2)"
   ]
  },
  {
   "cell_type": "markdown",
   "id": "b820670b",
   "metadata": {},
   "source": [
    "##### %- выступает в качестве подменного символа\n",
    "##### 2f - показывает количество знаком после запятой"
   ]
  },
  {
   "cell_type": "code",
   "execution_count": 67,
   "id": "d3556857",
   "metadata": {},
   "outputs": [],
   "source": [
    "s2= \"value1 = %.2f, value2 = %.2f\" %(3.1415,1.5)"
   ]
  },
  {
   "cell_type": "code",
   "execution_count": 68,
   "id": "5f653e5a",
   "metadata": {},
   "outputs": [
    {
     "name": "stdout",
     "output_type": "stream",
     "text": [
      "value1 = 3.14, value2 = 1.50\n"
     ]
    }
   ],
   "source": [
    "print(s2)"
   ]
  },
  {
   "cell_type": "markdown",
   "id": "aaf08c7e",
   "metadata": {},
   "source": [
    "##### format- подстановка значений"
   ]
  },
  {
   "cell_type": "code",
   "execution_count": 84,
   "id": "d8d0d50c",
   "metadata": {},
   "outputs": [],
   "source": [
    "s3=\"value1 = {0}, value2 = {2}, value3 = {1}\".format(3.1415,1.5, 1.38, 34)"
   ]
  },
  {
   "cell_type": "code",
   "execution_count": 85,
   "id": "7b29f150",
   "metadata": {},
   "outputs": [
    {
     "data": {
      "text/plain": [
       "'value1 = 3.1415, value2 = 1.38, value3 = 1.5'"
      ]
     },
     "execution_count": 85,
     "metadata": {},
     "output_type": "execute_result"
    }
   ],
   "source": [
    "s3"
   ]
  },
  {
   "cell_type": "code",
   "execution_count": 86,
   "id": "c421fa04",
   "metadata": {},
   "outputs": [
    {
     "name": "stdout",
     "output_type": "stream",
     "text": [
      "[1, 2, 3, 4]\n",
      "<class 'int'>\n"
     ]
    }
   ],
   "source": [
    "l=[1,2,3,4]\n",
    "print(l)\n",
    "print(type(1))"
   ]
  },
  {
   "cell_type": "code",
   "execution_count": 90,
   "id": "f9b7e7b8",
   "metadata": {},
   "outputs": [
    {
     "ename": "SyntaxError",
     "evalue": "invalid syntax (3945427781.py, line 2)",
     "output_type": "error",
     "traceback": [
      "\u001b[1;36m  Cell \u001b[1;32mIn[90], line 2\u001b[1;36m\u001b[0m\n\u001b[1;33m    nested list\u001b[0m\n\u001b[1;37m           ^\u001b[0m\n\u001b[1;31mSyntaxError\u001b[0m\u001b[1;31m:\u001b[0m invalid syntax\n"
     ]
    }
   ],
   "source": [
    "nested_list = [1, [2, [3, [4, [5]]]]]\n",
    "nested list"
   ]
  },
  {
   "cell_type": "code",
   "execution_count": 109,
   "id": "c42a628b",
   "metadata": {},
   "outputs": [
    {
     "data": {
      "text/plain": [
       "['a', 'b', 'c', 'd', 'e', 'f']"
      ]
     },
     "execution_count": 109,
     "metadata": {},
     "output_type": "execute_result"
    }
   ],
   "source": [
    "list(a)"
   ]
  },
  {
   "cell_type": "code",
   "execution_count": 113,
   "id": "bd9a76f4",
   "metadata": {},
   "outputs": [
    {
     "data": {
      "text/plain": [
       "[-10, -9, -8, -7, -6, -5, -4, -3, -2, -1, 0, 1, 2, 3, 4, 5, 6, 7, 8, 9]"
      ]
     },
     "execution_count": 113,
     "metadata": {},
     "output_type": "execute_result"
    }
   ],
   "source": [
    "list(range(-10, 10))"
   ]
  },
  {
   "cell_type": "code",
   "execution_count": 114,
   "id": "ccc7cc02",
   "metadata": {},
   "outputs": [],
   "source": [
    "s2 = list(s)"
   ]
  },
  {
   "cell_type": "code",
   "execution_count": 116,
   "id": "9c8f2462",
   "metadata": {},
   "outputs": [
    {
     "name": "stdout",
     "output_type": "stream",
     "text": [
      "[' ', '!', 'H', 'W', 'd', 'e', 'l', 'l', 'l', 'o', 'o', 'r']\n"
     ]
    }
   ],
   "source": [
    "s2.sort()\n",
    "print(s2)"
   ]
  },
  {
   "cell_type": "code",
   "execution_count": 119,
   "id": "02199b97",
   "metadata": {},
   "outputs": [],
   "source": [
    "l = []"
   ]
  },
  {
   "cell_type": "code",
   "execution_count": 120,
   "id": "a1da8d26",
   "metadata": {},
   "outputs": [
    {
     "data": {
      "text/plain": [
       "[]"
      ]
     },
     "execution_count": 120,
     "metadata": {},
     "output_type": "execute_result"
    }
   ],
   "source": [
    "l"
   ]
  },
  {
   "cell_type": "code",
   "execution_count": 121,
   "id": "4925de6c",
   "metadata": {},
   "outputs": [],
   "source": [
    "l.append('d')\n",
    "l.append('d')"
   ]
  },
  {
   "cell_type": "code",
   "execution_count": 122,
   "id": "d08a78a6",
   "metadata": {},
   "outputs": [
    {
     "data": {
      "text/plain": [
       "['d', 'd']"
      ]
     },
     "execution_count": 122,
     "metadata": {},
     "output_type": "execute_result"
    }
   ],
   "source": [
    "l"
   ]
  },
  {
   "cell_type": "code",
   "execution_count": 124,
   "id": "b671b44b",
   "metadata": {},
   "outputs": [
    {
     "ename": "IndexError",
     "evalue": "list assignment index out of range",
     "output_type": "error",
     "traceback": [
      "\u001b[1;31m---------------------------------------------------------------------------\u001b[0m",
      "\u001b[1;31mIndexError\u001b[0m                                Traceback (most recent call last)",
      "Cell \u001b[1;32mIn[124], line 2\u001b[0m\n\u001b[0;32m      1\u001b[0m l[\u001b[38;5;241m1\u001b[39m]\u001b[38;5;241m=\u001b[39m\u001b[38;5;124m'\u001b[39m\u001b[38;5;124mp\u001b[39m\u001b[38;5;124m'\u001b[39m\n\u001b[1;32m----> 2\u001b[0m l[\u001b[38;5;241m2\u001b[39m]\u001b[38;5;241m=\u001b[39m\u001b[38;5;124m'\u001b[39m\u001b[38;5;124mp\u001b[39m\u001b[38;5;124m'\u001b[39m\n",
      "\u001b[1;31mIndexError\u001b[0m: list assignment index out of range"
     ]
    }
   ],
   "source": [
    "l[1]='p'\n",
    "l[2]='p'"
   ]
  },
  {
   "cell_type": "code",
   "execution_count": 128,
   "id": "f2f69738",
   "metadata": {},
   "outputs": [
    {
     "name": "stdout",
     "output_type": "stream",
     "text": [
      "['i', 'n', 's', 'e', 'r', 't', 't', 'r', 'e', 's', 'n', 'i', 't', 'r', 'e', 's', 'n', 'i', 'd', 'p']\n"
     ]
    }
   ],
   "source": [
    "l.insert(0, 'i')\n",
    "l.insert(1, 'n')\n",
    "l.insert(2, 's')\n",
    "l.insert(3, 'e')\n",
    "l.insert(4, 'r')\n",
    "l.insert(5, 't')\n",
    "\n",
    "print(l)"
   ]
  },
  {
   "cell_type": "code",
   "execution_count": 130,
   "id": "97e65c6b",
   "metadata": {},
   "outputs": [
    {
     "data": {
      "text/plain": [
       "['i',\n",
       " 'n',\n",
       " 's',\n",
       " 'e',\n",
       " 'r',\n",
       " 't',\n",
       " 'n',\n",
       " 'i',\n",
       " 't',\n",
       " 'r',\n",
       " 'e',\n",
       " 's',\n",
       " 'n',\n",
       " 'i',\n",
       " 'd',\n",
       " 'p']"
      ]
     },
     "execution_count": 130,
     "metadata": {},
     "output_type": "execute_result"
    }
   ],
   "source": [
    "del l[7]\n",
    "del l[6]\n",
    "l"
   ]
  },
  {
   "cell_type": "code",
   "execution_count": 131,
   "id": "5c8a5ed0",
   "metadata": {},
   "outputs": [
    {
     "name": "stdout",
     "output_type": "stream",
     "text": [
      "(10, 20) <class 'tuple'>\n"
     ]
    }
   ],
   "source": [
    "point = (10, 20)\n",
    "print(point, type(point))"
   ]
  },
  {
   "cell_type": "code",
   "execution_count": 132,
   "id": "17a2e0bb",
   "metadata": {},
   "outputs": [
    {
     "name": "stdout",
     "output_type": "stream",
     "text": [
      "10\n",
      "20\n"
     ]
    }
   ],
   "source": [
    "x, y = point\n",
    "print (x)\n",
    "print (y)"
   ]
  },
  {
   "cell_type": "code",
   "execution_count": 133,
   "id": "ea12d172",
   "metadata": {},
   "outputs": [
    {
     "ename": "TypeError",
     "evalue": "'tuple' object does not support item assignment",
     "output_type": "error",
     "traceback": [
      "\u001b[1;31m---------------------------------------------------------------------------\u001b[0m",
      "\u001b[1;31mTypeError\u001b[0m                                 Traceback (most recent call last)",
      "Cell \u001b[1;32mIn[133], line 1\u001b[0m\n\u001b[1;32m----> 1\u001b[0m point[\u001b[38;5;241m0\u001b[39m] \u001b[38;5;241m=\u001b[39m \u001b[38;5;241m20\u001b[39m\n",
      "\u001b[1;31mTypeError\u001b[0m: 'tuple' object does not support item assignment"
     ]
    }
   ],
   "source": [
    "point[0] = 20"
   ]
  },
  {
   "cell_type": "code",
   "execution_count": 135,
   "id": "ee1c4cce",
   "metadata": {},
   "outputs": [
    {
     "name": "stdout",
     "output_type": "stream",
     "text": [
      "1.0\n"
     ]
    }
   ],
   "source": [
    "import math\n",
    "\n",
    "x = math.cos(2 * math.pi)\n",
    "print(x)"
   ]
  },
  {
   "cell_type": "code",
   "execution_count": 136,
   "id": "76778778",
   "metadata": {},
   "outputs": [
    {
     "name": "stdout",
     "output_type": "stream",
     "text": [
      "1.0\n"
     ]
    }
   ],
   "source": [
    "from math import *\n",
    "\n",
    "x = cos(2*pi)\n",
    "print(x)"
   ]
  },
  {
   "cell_type": "markdown",
   "id": "ca791a1b",
   "metadata": {},
   "source": [
    "не использовать импорт части библиотеки"
   ]
  },
  {
   "cell_type": "code",
   "execution_count": 137,
   "id": "68bc94a8",
   "metadata": {},
   "outputs": [
    {
     "name": "stdout",
     "output_type": "stream",
     "text": [
      "1.0\n"
     ]
    }
   ],
   "source": [
    "from math import cos, pi\n",
    "x = cos(2*pi)\n",
    "print(x)"
   ]
  },
  {
   "cell_type": "code",
   "execution_count": 138,
   "id": "cc9a8c89",
   "metadata": {},
   "outputs": [
    {
     "name": "stdout",
     "output_type": "stream",
     "text": [
      "['__doc__', '__loader__', '__name__', '__package__', '__spec__', 'acos', 'acosh', 'asin', 'asinh', 'atan', 'atan2', 'atanh', 'ceil', 'comb', 'copysign', 'cos', 'cosh', 'degrees', 'dist', 'e', 'erf', 'erfc', 'exp', 'expm1', 'fabs', 'factorial', 'floor', 'fmod', 'frexp', 'fsum', 'gamma', 'gcd', 'hypot', 'inf', 'isclose', 'isfinite', 'isinf', 'isnan', 'isqrt', 'lcm', 'ldexp', 'lgamma', 'log', 'log10', 'log1p', 'log2', 'modf', 'nan', 'nextafter', 'perm', 'pi', 'pow', 'prod', 'radians', 'remainder', 'sin', 'sinh', 'sqrt', 'tan', 'tanh', 'tau', 'trunc', 'ulp']\n"
     ]
    }
   ],
   "source": [
    "print(dir(math))"
   ]
  },
  {
   "cell_type": "code",
   "execution_count": 141,
   "id": "9de896d1",
   "metadata": {},
   "outputs": [
    {
     "name": "stdout",
     "output_type": "stream",
     "text": [
      "Help on built-in function log in module math:\n",
      "\n",
      "log(...)\n",
      "    log(x, [base=math.e])\n",
      "    Return the logarithm of x to the given base.\n",
      "    \n",
      "    If the base not specified, returns the natural logarithm (base e) of x.\n",
      "\n"
     ]
    }
   ],
   "source": [
    "help(math.log)"
   ]
  },
  {
   "cell_type": "code",
   "execution_count": 13,
   "id": "59f68eb7",
   "metadata": {},
   "outputs": [
    {
     "name": "stdout",
     "output_type": "stream",
     "text": [
      "10\n",
      "1 2 2 3 3 5 5 8 8 13 13 21 21 34 34 55 "
     ]
    }
   ],
   "source": [
    "N = int(input())\n",
    "f1 = 1\n",
    "f2 = 1\n",
    "print(f1)\n",
    "for i in range(2, N+1):\n",
    "    f1, f2 = f2, f1+f2\n",
    "    print(f1, f2,  end = \" \")"
   ]
  },
  {
   "cell_type": "code",
   "execution_count": null,
   "id": "c3d8e163",
   "metadata": {},
   "outputs": [],
   "source": []
  }
 ],
 "metadata": {
  "kernelspec": {
   "display_name": "Python 3 (ipykernel)",
   "language": "python",
   "name": "python3"
  },
  "language_info": {
   "codemirror_mode": {
    "name": "ipython",
    "version": 3
   },
   "file_extension": ".py",
   "mimetype": "text/x-python",
   "name": "python",
   "nbconvert_exporter": "python",
   "pygments_lexer": "ipython3",
   "version": "3.10.9"
  }
 },
 "nbformat": 4,
 "nbformat_minor": 5
}
