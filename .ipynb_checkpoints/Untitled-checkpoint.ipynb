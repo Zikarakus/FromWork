{
 "cells": [
  {
   "cell_type": "code",
   "execution_count": 1,
   "id": "4fb8eb61",
   "metadata": {},
   "outputs": [],
   "source": [
    "x=\"Hello\""
   ]
  },
  {
   "cell_type": "code",
   "execution_count": 2,
   "id": "eb3643e7",
   "metadata": {},
   "outputs": [
    {
     "name": "stdout",
     "output_type": "stream",
     "text": [
      "Hello\n"
     ]
    }
   ],
   "source": [
    "print(x)"
   ]
  },
  {
   "cell_type": "code",
   "execution_count": 3,
   "id": "d1e36129",
   "metadata": {},
   "outputs": [
    {
     "data": {
      "text/plain": [
       "str"
      ]
     },
     "execution_count": 3,
     "metadata": {},
     "output_type": "execute_result"
    }
   ],
   "source": [
    "type(x)"
   ]
  },
  {
   "cell_type": "code",
   "execution_count": 4,
   "id": "bba40c0e",
   "metadata": {},
   "outputs": [],
   "source": [
    "a=5"
   ]
  },
  {
   "cell_type": "code",
   "execution_count": 5,
   "id": "30353b67",
   "metadata": {},
   "outputs": [
    {
     "data": {
      "text/plain": [
       "int"
      ]
     },
     "execution_count": 5,
     "metadata": {},
     "output_type": "execute_result"
    }
   ],
   "source": [
    "type(a)"
   ]
  },
  {
   "cell_type": "code",
   "execution_count": 7,
   "id": "7930215f",
   "metadata": {},
   "outputs": [],
   "source": [
    "f=13.33"
   ]
  },
  {
   "cell_type": "code",
   "execution_count": 8,
   "id": "b96625ee",
   "metadata": {},
   "outputs": [
    {
     "data": {
      "text/plain": [
       "float"
      ]
     },
     "execution_count": 8,
     "metadata": {},
     "output_type": "execute_result"
    }
   ],
   "source": [
    "type(f)"
   ]
  },
  {
   "cell_type": "code",
   "execution_count": 9,
   "id": "40be78ca",
   "metadata": {},
   "outputs": [],
   "source": [
    "c=True"
   ]
  },
  {
   "cell_type": "code",
   "execution_count": 10,
   "id": "1018eec2",
   "metadata": {},
   "outputs": [
    {
     "data": {
      "text/plain": [
       "bool"
      ]
     },
     "execution_count": 10,
     "metadata": {},
     "output_type": "execute_result"
    }
   ],
   "source": [
    "type(c)"
   ]
  },
  {
   "cell_type": "code",
   "execution_count": 17,
   "id": "397ac87a",
   "metadata": {},
   "outputs": [],
   "source": [
    "some_string=\"5\"                            "
   ]
  },
  {
   "cell_type": "code",
   "execution_count": 18,
   "id": "2684a2e7",
   "metadata": {},
   "outputs": [
    {
     "data": {
      "text/plain": [
       "str"
      ]
     },
     "execution_count": 18,
     "metadata": {},
     "output_type": "execute_result"
    }
   ],
   "source": [
    "type (some_string)"
   ]
  },
  {
   "cell_type": "code",
   "execution_count": 16,
   "id": "9769f598",
   "metadata": {},
   "outputs": [],
   "source": [
    "some_string=int(some_string)"
   ]
  },
  {
   "cell_type": "code",
   "execution_count": 19,
   "id": "3f38ff1a",
   "metadata": {},
   "outputs": [],
   "source": [
    "a=\"abcdef\""
   ]
  },
  {
   "cell_type": "code",
   "execution_count": 20,
   "id": "78dd3ca1",
   "metadata": {},
   "outputs": [
    {
     "data": {
      "text/plain": [
       "'abcdef'"
      ]
     },
     "execution_count": 20,
     "metadata": {},
     "output_type": "execute_result"
    }
   ],
   "source": [
    "a"
   ]
  },
  {
   "cell_type": "code",
   "execution_count": 23,
   "id": "0c4e1af8",
   "metadata": {},
   "outputs": [
    {
     "data": {
      "text/plain": [
       "'bc'"
      ]
     },
     "execution_count": 23,
     "metadata": {},
     "output_type": "execute_result"
    }
   ],
   "source": [
    "a[1:3]"
   ]
  },
  {
   "cell_type": "code",
   "execution_count": 26,
   "id": "d55aa571",
   "metadata": {},
   "outputs": [
    {
     "name": "stdout",
     "output_type": "stream",
     "text": [
      "A\n",
      "B\n",
      "C\n",
      "D\n",
      "E\n",
      "F\n"
     ]
    }
   ],
   "source": [
    "for i in a:\n",
    "    print(i.upper())"
   ]
  },
  {
   "cell_type": "code",
   "execution_count": 25,
   "id": "c6acdc32",
   "metadata": {},
   "outputs": [
    {
     "name": "stdout",
     "output_type": "stream",
     "text": [
      "ABCDEF\n"
     ]
    }
   ],
   "source": [
    "print(a.upper())"
   ]
  },
  {
   "cell_type": "code",
   "execution_count": 56,
   "id": "0f18d0db",
   "metadata": {},
   "outputs": [
    {
     "data": {
      "text/plain": [
       "18"
      ]
     },
     "execution_count": 56,
     "metadata": {},
     "output_type": "execute_result"
    }
   ],
   "source": [
    "37//2"
   ]
  },
  {
   "cell_type": "code",
   "execution_count": 59,
   "id": "e409cac3",
   "metadata": {},
   "outputs": [
    {
     "data": {
      "text/plain": [
       "True"
      ]
     },
     "execution_count": 59,
     "metadata": {},
     "output_type": "execute_result"
    }
   ],
   "source": [
    "2<3"
   ]
  },
  {
   "cell_type": "code",
   "execution_count": 62,
   "id": "61725349",
   "metadata": {},
   "outputs": [
    {
     "data": {
      "text/plain": [
       "False"
      ]
     },
     "execution_count": 62,
     "metadata": {},
     "output_type": "execute_result"
    }
   ],
   "source": [
    "2!=2"
   ]
  },
  {
   "cell_type": "code",
   "execution_count": 65,
   "id": "e479c9a0",
   "metadata": {},
   "outputs": [
    {
     "data": {
      "text/plain": [
       "False"
      ]
     },
     "execution_count": 65,
     "metadata": {},
     "output_type": "execute_result"
    }
   ],
   "source": [
    "[1,2]is[1,2]"
   ]
  },
  {
   "cell_type": "code",
   "execution_count": 66,
   "id": "902aa391",
   "metadata": {},
   "outputs": [],
   "source": [
    "l1=l2=[1,2]"
   ]
  },
  {
   "cell_type": "markdown",
   "id": "47acaad7",
   "metadata": {},
   "source": [
    "l1isl2"
   ]
  },
  {
   "cell_type": "code",
   "execution_count": 70,
   "id": "d718909a",
   "metadata": {},
   "outputs": [
    {
     "data": {
      "text/plain": [
       "True"
      ]
     },
     "execution_count": 70,
     "metadata": {},
     "output_type": "execute_result"
    }
   ],
   "source": [
    "l1 is l2"
   ]
  },
  {
   "cell_type": "code",
   "execution_count": 71,
   "id": "671f5198",
   "metadata": {},
   "outputs": [
    {
     "data": {
      "text/plain": [
       "6"
      ]
     },
     "execution_count": 71,
     "metadata": {},
     "output_type": "execute_result"
    }
   ],
   "source": [
    "len(a)"
   ]
  },
  {
   "cell_type": "code",
   "execution_count": 72,
   "id": "f936b39a",
   "metadata": {},
   "outputs": [
    {
     "data": {
      "text/plain": [
       "2"
      ]
     },
     "execution_count": 72,
     "metadata": {},
     "output_type": "execute_result"
    }
   ],
   "source": [
    "len(l1)"
   ]
  },
  {
   "cell_type": "code",
   "execution_count": 78,
   "id": "2ffbecae",
   "metadata": {},
   "outputs": [],
   "source": [
    "s = \"Hello World!\"\n",
    "s2 = s.replace(\"World\", 'Anton')"
   ]
  },
  {
   "cell_type": "code",
   "execution_count": 79,
   "id": "b953076d",
   "metadata": {},
   "outputs": [
    {
     "data": {
      "text/plain": [
       "'Hello Anton!'"
      ]
     },
     "execution_count": 79,
     "metadata": {},
     "output_type": "execute_result"
    }
   ],
   "source": [
    "s2"
   ]
  },
  {
   "cell_type": "markdown",
   "id": "ce784b1e",
   "metadata": {},
   "source": [
    "[start:end:step]"
   ]
  },
  {
   "cell_type": "code",
   "execution_count": 83,
   "id": "c1965fd3",
   "metadata": {},
   "outputs": [
    {
     "data": {
      "text/plain": [
       "'HloAtn'"
      ]
     },
     "execution_count": 83,
     "metadata": {},
     "output_type": "execute_result"
    }
   ],
   "source": [
    "s2[::2]"
   ]
  },
  {
   "cell_type": "code",
   "execution_count": 84,
   "id": "bf52f274",
   "metadata": {},
   "outputs": [
    {
     "name": "stdout",
     "output_type": "stream",
     "text": [
      "str1 str2 str3\n"
     ]
    }
   ],
   "source": [
    "print(\"str1\", 'str2','str3')"
   ]
  },
  {
   "cell_type": "code",
   "execution_count": 87,
   "id": "d7216812",
   "metadata": {},
   "outputs": [
    {
     "name": "stdout",
     "output_type": "stream",
     "text": [
      "str1 1.0 False Hello Anton!\n"
     ]
    }
   ],
   "source": [
    "print('str1', 1.0, False, s2)"
   ]
  },
  {
   "cell_type": "code",
   "execution_count": 91,
   "id": "837affe7",
   "metadata": {},
   "outputs": [],
   "source": [
    "s2= \"value1 = %.2f. value2 = %.2f\" %(3.1415,1.5)"
   ]
  },
  {
   "cell_type": "code",
   "execution_count": 92,
   "id": "3b140012",
   "metadata": {},
   "outputs": [
    {
     "name": "stdout",
     "output_type": "stream",
     "text": [
      "value1 = 3.14. value2 = 1.50\n"
     ]
    }
   ],
   "source": [
    "print(s2)"
   ]
  },
  {
   "cell_type": "code",
   "execution_count": 98,
   "id": "325fdf70",
   "metadata": {},
   "outputs": [],
   "source": [
    "s3= \"value1 = {0}, value2 = {1}\" .format(3.1415,1.5)"
   ]
  },
  {
   "cell_type": "code",
   "execution_count": null,
   "id": "963b9095",
   "metadata": {},
   "outputs": [],
   "source": []
  }
 ],
 "metadata": {
  "kernelspec": {
   "display_name": "Python 3 (ipykernel)",
   "language": "python",
   "name": "python3"
  },
  "language_info": {
   "codemirror_mode": {
    "name": "ipython",
    "version": 3
   },
   "file_extension": ".py",
   "mimetype": "text/x-python",
   "name": "python",
   "nbconvert_exporter": "python",
   "pygments_lexer": "ipython3",
   "version": "3.10.9"
  }
 },
 "nbformat": 4,
 "nbformat_minor": 5
}
